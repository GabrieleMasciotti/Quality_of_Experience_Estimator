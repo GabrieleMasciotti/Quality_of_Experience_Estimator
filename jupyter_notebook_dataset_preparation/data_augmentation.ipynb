{
 "cells": [
  {
   "cell_type": "code",
   "execution_count": 1,
   "id": "f4264be6",
   "metadata": {},
   "outputs": [],
   "source": [
    "import pandas as pd\n",
    "import numpy as np\n",
    "from collections import Counter\n",
    "from imblearn.over_sampling import ADASYN"
   ]
  },
  {
   "cell_type": "code",
   "execution_count": 2,
   "id": "301eb93e",
   "metadata": {},
   "outputs": [],
   "source": [
    "data = pd.read_pickle(\"training_dataset\")"
   ]
  },
  {
   "cell_type": "code",
   "execution_count": 3,
   "id": "b3a564e4",
   "metadata": {},
   "outputs": [],
   "source": [
    "cols = data.columns"
   ]
  },
  {
   "cell_type": "code",
   "execution_count": 4,
   "id": "64ef8a83",
   "metadata": {},
   "outputs": [
    {
     "name": "stdout",
     "output_type": "stream",
     "text": [
      "3.0    108\n",
      "5.0     94\n",
      "4.0     93\n",
      "2.0     52\n",
      "1.0     32\n",
      "Name: QoE, dtype: int64\n"
     ]
    }
   ],
   "source": [
    "#inbalanced QoE targets\n",
    "\n",
    "print(data[\"QoE\"].value_counts())"
   ]
  },
  {
   "cell_type": "code",
   "execution_count": 5,
   "id": "b0d035db",
   "metadata": {},
   "outputs": [],
   "source": [
    "#from pandas dataframe to numpy arrays\n",
    "\n",
    "X = data.iloc[:,:-1].values      #tutte le features\n",
    "y = data.iloc[:,-1].values       #i valori delle QoE"
   ]
  },
  {
   "cell_type": "code",
   "execution_count": 6,
   "id": "7c38c93e",
   "metadata": {},
   "outputs": [
    {
     "name": "stdout",
     "output_type": "stream",
     "text": [
      "Shape of Feature matrix:  (379, 26)\n",
      "Shape of Target Vector:  (379,)\n"
     ]
    }
   ],
   "source": [
    "print('Shape of Feature matrix: ',X.shape)\n",
    "print('Shape of Target Vector: ',y.shape)"
   ]
  },
  {
   "cell_type": "code",
   "execution_count": 7,
   "id": "74b03fc3",
   "metadata": {},
   "outputs": [
    {
     "data": {
      "text/plain": [
       "(379, 27)"
      ]
     },
     "execution_count": 7,
     "metadata": {},
     "output_type": "execute_result"
    }
   ],
   "source": [
    "data.shape"
   ]
  },
  {
   "cell_type": "code",
   "execution_count": 8,
   "id": "a64b72f4",
   "metadata": {},
   "outputs": [
    {
     "name": "stdout",
     "output_type": "stream",
     "text": [
      "Original Target Variable Distribution:  Counter({3.0: 108, 5.0: 94, 4.0: 93, 2.0: 52, 1.0: 32})\n"
     ]
    }
   ],
   "source": [
    "print('Original Target Variable Distribution: ',Counter(y))"
   ]
  },
  {
   "cell_type": "code",
   "execution_count": 9,
   "id": "1f53020b",
   "metadata": {},
   "outputs": [],
   "source": [
    "adasyn = ADASYN(sampling_strategy='minority',random_state=420,n_neighbors=5)\n",
    "X_res, y_res = adasyn.fit_resample(X,y)\n",
    "X_res, y_res = adasyn.fit_resample(X_res,y_res)"
   ]
  },
  {
   "cell_type": "code",
   "execution_count": 10,
   "id": "9c38f050",
   "metadata": {},
   "outputs": [
    {
     "name": "stdout",
     "output_type": "stream",
     "text": [
      "Oversampled Target Variable Distribution:  Counter({3.0: 108, 2.0: 104, 1.0: 102, 5.0: 94, 4.0: 93})\n"
     ]
    }
   ],
   "source": [
    "print('Oversampled Target Variable Distribution: ',Counter(y_res))"
   ]
  },
  {
   "cell_type": "code",
   "execution_count": 11,
   "id": "8c759d29",
   "metadata": {},
   "outputs": [],
   "source": [
    "X = pd.DataFrame(X_res,columns=cols.drop('QoE'))\n",
    "y = pd.DataFrame(y_res,columns=['QoE'])"
   ]
  },
  {
   "cell_type": "code",
   "execution_count": 12,
   "id": "86d65779",
   "metadata": {},
   "outputs": [
    {
     "data": {
      "text/plain": [
       "(501, 26)"
      ]
     },
     "execution_count": 12,
     "metadata": {},
     "output_type": "execute_result"
    }
   ],
   "source": [
    "X.shape"
   ]
  },
  {
   "cell_type": "code",
   "execution_count": 13,
   "id": "774e8703",
   "metadata": {},
   "outputs": [
    {
     "data": {
      "text/plain": [
       "(501, 1)"
      ]
     },
     "execution_count": 13,
     "metadata": {},
     "output_type": "execute_result"
    }
   ],
   "source": [
    "y.shape"
   ]
  },
  {
   "cell_type": "code",
   "execution_count": 14,
   "id": "bdc445ce",
   "metadata": {},
   "outputs": [],
   "source": [
    "oversampled_dataset = pd.concat([X,y],axis=1)"
   ]
  },
  {
   "cell_type": "code",
   "execution_count": 15,
   "id": "5b366caf",
   "metadata": {},
   "outputs": [],
   "source": [
    "oversampled_dataset = oversampled_dataset.set_index(np.arange(1,oversampled_dataset.shape[0]+1))"
   ]
  },
  {
   "cell_type": "code",
   "execution_count": 16,
   "id": "e5209c21",
   "metadata": {},
   "outputs": [
    {
     "data": {
      "text/html": [
       "<div>\n",
       "<style scoped>\n",
       "    .dataframe tbody tr th:only-of-type {\n",
       "        vertical-align: middle;\n",
       "    }\n",
       "\n",
       "    .dataframe tbody tr th {\n",
       "        vertical-align: top;\n",
       "    }\n",
       "\n",
       "    .dataframe thead th {\n",
       "        text-align: right;\n",
       "    }\n",
       "</style>\n",
       "<table border=\"1\" class=\"dataframe\">\n",
       "  <thead>\n",
       "    <tr style=\"text-align: right;\">\n",
       "      <th></th>\n",
       "      <th>Var</th>\n",
       "      <th>AU01_c</th>\n",
       "      <th>AU02_c</th>\n",
       "      <th>AU04_c</th>\n",
       "      <th>AU05_c</th>\n",
       "      <th>AU06_c</th>\n",
       "      <th>AU09_c</th>\n",
       "      <th>AU10_c</th>\n",
       "      <th>AU15_c</th>\n",
       "      <th>AU17_c</th>\n",
       "      <th>...</th>\n",
       "      <th>AU09_r</th>\n",
       "      <th>AU12_r</th>\n",
       "      <th>AU14_r</th>\n",
       "      <th>AU15_r</th>\n",
       "      <th>AU17_r</th>\n",
       "      <th>AU20_r</th>\n",
       "      <th>AU23_r</th>\n",
       "      <th>AU25_r</th>\n",
       "      <th>AU26_r</th>\n",
       "      <th>QoE</th>\n",
       "    </tr>\n",
       "  </thead>\n",
       "  <tbody>\n",
       "    <tr>\n",
       "      <th>1</th>\n",
       "      <td>0.000000e+00</td>\n",
       "      <td>0.041887</td>\n",
       "      <td>0.040479</td>\n",
       "      <td>0.007040</td>\n",
       "      <td>0.598381</td>\n",
       "      <td>0.000000</td>\n",
       "      <td>0.000000</td>\n",
       "      <td>0.001056</td>\n",
       "      <td>0.009856</td>\n",
       "      <td>0.041887</td>\n",
       "      <td>...</td>\n",
       "      <td>61.430000</td>\n",
       "      <td>13.180000</td>\n",
       "      <td>45.730000</td>\n",
       "      <td>168.790000</td>\n",
       "      <td>420.230000</td>\n",
       "      <td>97.500000</td>\n",
       "      <td>180.850000</td>\n",
       "      <td>395.840000</td>\n",
       "      <td>434.950000</td>\n",
       "      <td>2.0</td>\n",
       "    </tr>\n",
       "    <tr>\n",
       "      <th>2</th>\n",
       "      <td>1.561632e-17</td>\n",
       "      <td>0.085607</td>\n",
       "      <td>0.031776</td>\n",
       "      <td>0.000000</td>\n",
       "      <td>0.204486</td>\n",
       "      <td>0.000000</td>\n",
       "      <td>0.028411</td>\n",
       "      <td>0.000000</td>\n",
       "      <td>0.048598</td>\n",
       "      <td>0.111776</td>\n",
       "      <td>...</td>\n",
       "      <td>91.100000</td>\n",
       "      <td>21.820000</td>\n",
       "      <td>2.030000</td>\n",
       "      <td>281.240000</td>\n",
       "      <td>379.350000</td>\n",
       "      <td>94.450000</td>\n",
       "      <td>71.670000</td>\n",
       "      <td>348.680000</td>\n",
       "      <td>319.580000</td>\n",
       "      <td>4.0</td>\n",
       "    </tr>\n",
       "    <tr>\n",
       "      <th>3</th>\n",
       "      <td>3.447145e-17</td>\n",
       "      <td>0.066344</td>\n",
       "      <td>0.057731</td>\n",
       "      <td>0.070515</td>\n",
       "      <td>0.178711</td>\n",
       "      <td>0.000000</td>\n",
       "      <td>0.049926</td>\n",
       "      <td>0.000000</td>\n",
       "      <td>0.055847</td>\n",
       "      <td>0.045216</td>\n",
       "      <td>...</td>\n",
       "      <td>196.920000</td>\n",
       "      <td>18.430000</td>\n",
       "      <td>413.480000</td>\n",
       "      <td>313.840000</td>\n",
       "      <td>660.520000</td>\n",
       "      <td>182.990000</td>\n",
       "      <td>331.990000</td>\n",
       "      <td>606.320000</td>\n",
       "      <td>735.190000</td>\n",
       "      <td>5.0</td>\n",
       "    </tr>\n",
       "    <tr>\n",
       "      <th>4</th>\n",
       "      <td>-8.894137e-17</td>\n",
       "      <td>0.030620</td>\n",
       "      <td>0.037181</td>\n",
       "      <td>0.000000</td>\n",
       "      <td>0.167193</td>\n",
       "      <td>0.000000</td>\n",
       "      <td>0.000000</td>\n",
       "      <td>0.000000</td>\n",
       "      <td>0.022600</td>\n",
       "      <td>0.043985</td>\n",
       "      <td>...</td>\n",
       "      <td>78.330000</td>\n",
       "      <td>0.000000</td>\n",
       "      <td>205.060000</td>\n",
       "      <td>269.090000</td>\n",
       "      <td>632.580000</td>\n",
       "      <td>152.390000</td>\n",
       "      <td>104.300000</td>\n",
       "      <td>411.080000</td>\n",
       "      <td>566.380000</td>\n",
       "      <td>1.0</td>\n",
       "    </tr>\n",
       "    <tr>\n",
       "      <th>5</th>\n",
       "      <td>-1.428945e-17</td>\n",
       "      <td>0.000000</td>\n",
       "      <td>0.005792</td>\n",
       "      <td>0.005470</td>\n",
       "      <td>0.089768</td>\n",
       "      <td>0.000000</td>\n",
       "      <td>0.000000</td>\n",
       "      <td>0.000000</td>\n",
       "      <td>0.009653</td>\n",
       "      <td>0.095238</td>\n",
       "      <td>...</td>\n",
       "      <td>46.830000</td>\n",
       "      <td>0.710000</td>\n",
       "      <td>192.990000</td>\n",
       "      <td>150.570000</td>\n",
       "      <td>568.140000</td>\n",
       "      <td>123.300000</td>\n",
       "      <td>86.190000</td>\n",
       "      <td>315.940000</td>\n",
       "      <td>434.200000</td>\n",
       "      <td>2.0</td>\n",
       "    </tr>\n",
       "    <tr>\n",
       "      <th>...</th>\n",
       "      <td>...</td>\n",
       "      <td>...</td>\n",
       "      <td>...</td>\n",
       "      <td>...</td>\n",
       "      <td>...</td>\n",
       "      <td>...</td>\n",
       "      <td>...</td>\n",
       "      <td>...</td>\n",
       "      <td>...</td>\n",
       "      <td>...</td>\n",
       "      <td>...</td>\n",
       "      <td>...</td>\n",
       "      <td>...</td>\n",
       "      <td>...</td>\n",
       "      <td>...</td>\n",
       "      <td>...</td>\n",
       "      <td>...</td>\n",
       "      <td>...</td>\n",
       "      <td>...</td>\n",
       "      <td>...</td>\n",
       "      <td>...</td>\n",
       "    </tr>\n",
       "    <tr>\n",
       "      <th>497</th>\n",
       "      <td>-7.109975e-18</td>\n",
       "      <td>0.041347</td>\n",
       "      <td>0.079769</td>\n",
       "      <td>0.090360</td>\n",
       "      <td>0.142190</td>\n",
       "      <td>0.034064</td>\n",
       "      <td>0.034230</td>\n",
       "      <td>0.001946</td>\n",
       "      <td>0.068485</td>\n",
       "      <td>0.077197</td>\n",
       "      <td>...</td>\n",
       "      <td>413.883592</td>\n",
       "      <td>118.373169</td>\n",
       "      <td>425.509865</td>\n",
       "      <td>918.707462</td>\n",
       "      <td>2820.062004</td>\n",
       "      <td>401.200245</td>\n",
       "      <td>722.050030</td>\n",
       "      <td>1549.315334</td>\n",
       "      <td>2172.092336</td>\n",
       "      <td>2.0</td>\n",
       "    </tr>\n",
       "    <tr>\n",
       "      <th>498</th>\n",
       "      <td>-2.509153e-17</td>\n",
       "      <td>0.040579</td>\n",
       "      <td>0.070040</td>\n",
       "      <td>0.009844</td>\n",
       "      <td>0.305796</td>\n",
       "      <td>0.000000</td>\n",
       "      <td>0.002115</td>\n",
       "      <td>0.000000</td>\n",
       "      <td>0.017152</td>\n",
       "      <td>0.206621</td>\n",
       "      <td>...</td>\n",
       "      <td>179.369661</td>\n",
       "      <td>-44.661138</td>\n",
       "      <td>-95.991750</td>\n",
       "      <td>61.298427</td>\n",
       "      <td>364.785198</td>\n",
       "      <td>184.712227</td>\n",
       "      <td>276.097371</td>\n",
       "      <td>266.238371</td>\n",
       "      <td>262.576399</td>\n",
       "      <td>2.0</td>\n",
       "    </tr>\n",
       "    <tr>\n",
       "      <th>499</th>\n",
       "      <td>-1.506862e-17</td>\n",
       "      <td>0.105146</td>\n",
       "      <td>0.085052</td>\n",
       "      <td>0.038007</td>\n",
       "      <td>0.148832</td>\n",
       "      <td>0.029920</td>\n",
       "      <td>0.020939</td>\n",
       "      <td>0.009188</td>\n",
       "      <td>0.047335</td>\n",
       "      <td>0.091248</td>\n",
       "      <td>...</td>\n",
       "      <td>205.423965</td>\n",
       "      <td>109.584549</td>\n",
       "      <td>261.961805</td>\n",
       "      <td>235.274763</td>\n",
       "      <td>845.326479</td>\n",
       "      <td>315.130692</td>\n",
       "      <td>214.691914</td>\n",
       "      <td>951.104003</td>\n",
       "      <td>997.162415</td>\n",
       "      <td>2.0</td>\n",
       "    </tr>\n",
       "    <tr>\n",
       "      <th>500</th>\n",
       "      <td>-2.083665e-17</td>\n",
       "      <td>0.049593</td>\n",
       "      <td>0.067307</td>\n",
       "      <td>0.055347</td>\n",
       "      <td>0.198117</td>\n",
       "      <td>0.000000</td>\n",
       "      <td>0.008809</td>\n",
       "      <td>0.028892</td>\n",
       "      <td>0.037096</td>\n",
       "      <td>0.106894</td>\n",
       "      <td>...</td>\n",
       "      <td>140.903908</td>\n",
       "      <td>137.757474</td>\n",
       "      <td>371.871430</td>\n",
       "      <td>274.431174</td>\n",
       "      <td>926.278427</td>\n",
       "      <td>206.457460</td>\n",
       "      <td>189.803155</td>\n",
       "      <td>624.998567</td>\n",
       "      <td>516.212626</td>\n",
       "      <td>2.0</td>\n",
       "    </tr>\n",
       "    <tr>\n",
       "      <th>501</th>\n",
       "      <td>5.001663e-17</td>\n",
       "      <td>0.028278</td>\n",
       "      <td>0.035332</td>\n",
       "      <td>0.085166</td>\n",
       "      <td>0.124022</td>\n",
       "      <td>0.037312</td>\n",
       "      <td>0.000502</td>\n",
       "      <td>0.112684</td>\n",
       "      <td>0.045200</td>\n",
       "      <td>0.043150</td>\n",
       "      <td>...</td>\n",
       "      <td>185.157632</td>\n",
       "      <td>350.046757</td>\n",
       "      <td>1269.347487</td>\n",
       "      <td>710.485768</td>\n",
       "      <td>1118.487047</td>\n",
       "      <td>205.340985</td>\n",
       "      <td>404.366073</td>\n",
       "      <td>1265.254902</td>\n",
       "      <td>639.616258</td>\n",
       "      <td>2.0</td>\n",
       "    </tr>\n",
       "  </tbody>\n",
       "</table>\n",
       "<p>501 rows × 27 columns</p>\n",
       "</div>"
      ],
      "text/plain": [
       "              Var    AU01_c    AU02_c    AU04_c    AU05_c    AU06_c    AU09_c  \\\n",
       "1    0.000000e+00  0.041887  0.040479  0.007040  0.598381  0.000000  0.000000   \n",
       "2    1.561632e-17  0.085607  0.031776  0.000000  0.204486  0.000000  0.028411   \n",
       "3    3.447145e-17  0.066344  0.057731  0.070515  0.178711  0.000000  0.049926   \n",
       "4   -8.894137e-17  0.030620  0.037181  0.000000  0.167193  0.000000  0.000000   \n",
       "5   -1.428945e-17  0.000000  0.005792  0.005470  0.089768  0.000000  0.000000   \n",
       "..            ...       ...       ...       ...       ...       ...       ...   \n",
       "497 -7.109975e-18  0.041347  0.079769  0.090360  0.142190  0.034064  0.034230   \n",
       "498 -2.509153e-17  0.040579  0.070040  0.009844  0.305796  0.000000  0.002115   \n",
       "499 -1.506862e-17  0.105146  0.085052  0.038007  0.148832  0.029920  0.020939   \n",
       "500 -2.083665e-17  0.049593  0.067307  0.055347  0.198117  0.000000  0.008809   \n",
       "501  5.001663e-17  0.028278  0.035332  0.085166  0.124022  0.037312  0.000502   \n",
       "\n",
       "       AU10_c    AU15_c    AU17_c  ...      AU09_r      AU12_r       AU14_r  \\\n",
       "1    0.001056  0.009856  0.041887  ...   61.430000   13.180000    45.730000   \n",
       "2    0.000000  0.048598  0.111776  ...   91.100000   21.820000     2.030000   \n",
       "3    0.000000  0.055847  0.045216  ...  196.920000   18.430000   413.480000   \n",
       "4    0.000000  0.022600  0.043985  ...   78.330000    0.000000   205.060000   \n",
       "5    0.000000  0.009653  0.095238  ...   46.830000    0.710000   192.990000   \n",
       "..        ...       ...       ...  ...         ...         ...          ...   \n",
       "497  0.001946  0.068485  0.077197  ...  413.883592  118.373169   425.509865   \n",
       "498  0.000000  0.017152  0.206621  ...  179.369661  -44.661138   -95.991750   \n",
       "499  0.009188  0.047335  0.091248  ...  205.423965  109.584549   261.961805   \n",
       "500  0.028892  0.037096  0.106894  ...  140.903908  137.757474   371.871430   \n",
       "501  0.112684  0.045200  0.043150  ...  185.157632  350.046757  1269.347487   \n",
       "\n",
       "         AU15_r       AU17_r      AU20_r      AU23_r       AU25_r  \\\n",
       "1    168.790000   420.230000   97.500000  180.850000   395.840000   \n",
       "2    281.240000   379.350000   94.450000   71.670000   348.680000   \n",
       "3    313.840000   660.520000  182.990000  331.990000   606.320000   \n",
       "4    269.090000   632.580000  152.390000  104.300000   411.080000   \n",
       "5    150.570000   568.140000  123.300000   86.190000   315.940000   \n",
       "..          ...          ...         ...         ...          ...   \n",
       "497  918.707462  2820.062004  401.200245  722.050030  1549.315334   \n",
       "498   61.298427   364.785198  184.712227  276.097371   266.238371   \n",
       "499  235.274763   845.326479  315.130692  214.691914   951.104003   \n",
       "500  274.431174   926.278427  206.457460  189.803155   624.998567   \n",
       "501  710.485768  1118.487047  205.340985  404.366073  1265.254902   \n",
       "\n",
       "          AU26_r  QoE  \n",
       "1     434.950000  2.0  \n",
       "2     319.580000  4.0  \n",
       "3     735.190000  5.0  \n",
       "4     566.380000  1.0  \n",
       "5     434.200000  2.0  \n",
       "..           ...  ...  \n",
       "497  2172.092336  2.0  \n",
       "498   262.576399  2.0  \n",
       "499   997.162415  2.0  \n",
       "500   516.212626  2.0  \n",
       "501   639.616258  2.0  \n",
       "\n",
       "[501 rows x 27 columns]"
      ]
     },
     "execution_count": 16,
     "metadata": {},
     "output_type": "execute_result"
    }
   ],
   "source": [
    "oversampled_dataset"
   ]
  },
  {
   "cell_type": "code",
   "execution_count": 17,
   "id": "0e416702",
   "metadata": {},
   "outputs": [],
   "source": [
    "oversampled_dataset.to_pickle(\"oversampled_dataset\")"
   ]
  },
  {
   "cell_type": "code",
   "execution_count": null,
   "id": "4ffbf8fe",
   "metadata": {},
   "outputs": [],
   "source": []
  }
 ],
 "metadata": {
  "kernelspec": {
   "display_name": "Python 3",
   "language": "python",
   "name": "python3"
  },
  "language_info": {
   "codemirror_mode": {
    "name": "ipython",
    "version": 3
   },
   "file_extension": ".py",
   "mimetype": "text/x-python",
   "name": "python",
   "nbconvert_exporter": "python",
   "pygments_lexer": "ipython3",
   "version": "3.8.8"
  }
 },
 "nbformat": 4,
 "nbformat_minor": 5
}
