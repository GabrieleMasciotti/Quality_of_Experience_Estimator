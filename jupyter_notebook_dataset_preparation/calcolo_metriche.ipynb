{
 "cells": [
  {
   "cell_type": "code",
   "execution_count": 1,
   "id": "6e6678b5",
   "metadata": {},
   "outputs": [],
   "source": [
    "import pandas as pd\n",
    "import numpy as np"
   ]
  },
  {
   "cell_type": "code",
   "execution_count": 2,
   "id": "8766b38b",
   "metadata": {},
   "outputs": [],
   "source": [
    "complete_dataset = pd.read_pickle(\"complete_dataset\")"
   ]
  },
  {
   "cell_type": "code",
   "execution_count": 3,
   "id": "44047e05",
   "metadata": {},
   "outputs": [],
   "source": [
    "AUc = pd.read_pickle(\"AUc\")"
   ]
  },
  {
   "cell_type": "code",
   "execution_count": 4,
   "id": "033c8eb2",
   "metadata": {},
   "outputs": [],
   "source": [
    "total = AUc.drop(' id ',axis=1).sum().sum()"
   ]
  },
  {
   "cell_type": "code",
   "execution_count": 5,
   "id": "582a98f3",
   "metadata": {},
   "outputs": [],
   "source": [
    "dic = {}\n",
    "dataset = pd.DataFrame()\n",
    "feat = AUc.drop(' id ',axis=1).columns\n",
    "_id=1\n",
    "denominatore = pd.DataFrame()\n",
    "den = {}\n",
    "sumTemp = 0\n",
    "while _id<401:\n",
    "    for feature in feat:\n",
    "        temp = AUc[[' id ',feature]]\n",
    "        temp = temp[temp[' id ']==_id]\n",
    "        temp = temp.drop(' id ',axis=1)\n",
    "        s = temp.sum()\n",
    "        dic[feature] = s[0]\n",
    "        sumTemp = sumTemp+s[0]\n",
    "    _id = _id+1\n",
    "    dataset = dataset.append(dic,ignore_index=True)\n",
    "    den[\"Total\"] = sumTemp\n",
    "    denominatore = denominatore.append(den,ignore_index=True)\n",
    "    sumTemp = 0\n",
    "    "
   ]
  },
  {
   "cell_type": "code",
   "execution_count": 6,
   "id": "894778a9",
   "metadata": {},
   "outputs": [],
   "source": [
    "needed_features = [' AU01_c',' AU02_c',' AU04_c',' AU05_c',' AU06_c',' AU09_c',' AU10_c',' AU15_c',' AU17_c',' AU23_c',' AU28_c',' AU45_c']\n",
    "_id = 1\n",
    "d = {}\n",
    "F_AUc = pd.DataFrame()\n",
    "while _id<401:\n",
    "    i = denominatore['Total'][_id-1]\n",
    "    if i==0:\n",
    "        i\n",
    "    else:\n",
    "        for feat in needed_features:\n",
    "            d[feat]=(dataset[feat][_id-1])/i\n",
    "        d[\" id \"]=_id\n",
    "        F_AUc = F_AUc.append(d,ignore_index=True)\n",
    "    _id = _id+1"
   ]
  },
  {
   "cell_type": "code",
   "execution_count": 7,
   "id": "7aefbbdf",
   "metadata": {},
   "outputs": [],
   "source": [
    "F_AUc = F_AUc.set_index(' id ')"
   ]
  },
  {
   "cell_type": "code",
   "execution_count": 8,
   "id": "61283c8a",
   "metadata": {},
   "outputs": [],
   "source": [
    "F_AUc.to_pickle(\"F_AUc\")"
   ]
  },
  {
   "cell_type": "code",
   "execution_count": null,
   "id": "fcf0e098",
   "metadata": {},
   "outputs": [],
   "source": []
  },
  {
   "cell_type": "code",
   "execution_count": 17,
   "id": "19344038",
   "metadata": {},
   "outputs": [],
   "source": [
    "AUr = pd.read_pickle(\"AUr\")"
   ]
  },
  {
   "cell_type": "code",
   "execution_count": 19,
   "id": "e4f37aea",
   "metadata": {},
   "outputs": [],
   "source": [
    "dic = {}\n",
    "I_AUr = pd.DataFrame()\n",
    "feat = AUr.drop(' id ',axis=1).columns\n",
    "_id=1\n",
    "while _id<401:\n",
    "    for feature in feat:\n",
    "        temp = AUr[[' id ',feature]]\n",
    "        temp = temp[temp[' id ']==_id]\n",
    "        temp = temp.drop(' id ',axis=1)\n",
    "        s = temp.sum()\n",
    "        dic[feature] = s[0]\n",
    "    dic[\" id \"] = _id\n",
    "    _id = _id+1\n",
    "    I_AUr = I_AUr.append(dic,ignore_index=True)"
   ]
  },
  {
   "cell_type": "code",
   "execution_count": 20,
   "id": "ecba20a9",
   "metadata": {},
   "outputs": [],
   "source": [
    "I_AUr = I_AUr.set_index(' id ')"
   ]
  },
  {
   "cell_type": "code",
   "execution_count": 22,
   "id": "6c51462b",
   "metadata": {},
   "outputs": [],
   "source": [
    "I_AUr.to_pickle(\"I_AUr\")"
   ]
  },
  {
   "cell_type": "code",
   "execution_count": null,
   "id": "257c1af3",
   "metadata": {},
   "outputs": [],
   "source": []
  },
  {
   "cell_type": "code",
   "execution_count": 23,
   "id": "c08bd5fb",
   "metadata": {},
   "outputs": [],
   "source": [
    "GD = pd.read_pickle(\"GD\")"
   ]
  },
  {
   "cell_type": "code",
   "execution_count": 26,
   "id": "778df060",
   "metadata": {},
   "outputs": [],
   "source": [
    "#calcolo delle medie dei 6 valori per ogni video\n",
    "\n",
    "dic = {}\n",
    "means = pd.DataFrame()\n",
    "_id=1\n",
    "while _id<401:\n",
    "    temp = GD[GD[' id ']==_id]\n",
    "    temp = temp.drop(' id ',axis=1)\n",
    "    s = temp.sum().sum()\n",
    "    n = temp.shape[0]*temp.shape[1]\n",
    "    media = s/n\n",
    "    dic[\"mean\"] = media\n",
    "    _id = _id+1\n",
    "    means = means.append(dic,ignore_index=True)"
   ]
  },
  {
   "cell_type": "code",
   "execution_count": 28,
   "id": "40f67916",
   "metadata": {},
   "outputs": [],
   "source": [
    "#calcolo finale del Vgd\n",
    "\n",
    "dic = {}\n",
    "Vgd = pd.DataFrame()\n",
    "_id = 1\n",
    "while _id<401:\n",
    "    temp = GD[GD[' id ']==_id]\n",
    "    temp = temp.drop(' id ',axis=1)\n",
    "    temp = temp.subtract(means[\"mean\"][_id-1])\n",
    "    s = temp.sum().sum()\n",
    "    variance = s/temp.shape[0]\n",
    "    dic[\" id \"] = _id\n",
    "    dic[\"Var\"] = variance\n",
    "    _id = _id+1\n",
    "    Vgd = Vgd.append(dic,ignore_index=True)"
   ]
  },
  {
   "cell_type": "code",
   "execution_count": 29,
   "id": "1dc10b5a",
   "metadata": {},
   "outputs": [],
   "source": [
    "Vgd = Vgd.set_index(\" id \")"
   ]
  },
  {
   "cell_type": "code",
   "execution_count": 31,
   "id": "f17c4af2",
   "metadata": {},
   "outputs": [],
   "source": [
    "Vgd.to_pickle(\"Vgd\")"
   ]
  },
  {
   "cell_type": "code",
   "execution_count": null,
   "id": "75a58060",
   "metadata": {},
   "outputs": [],
   "source": []
  }
 ],
 "metadata": {
  "kernelspec": {
   "display_name": "Python 3",
   "language": "python",
   "name": "python3"
  },
  "language_info": {
   "codemirror_mode": {
    "name": "ipython",
    "version": 3
   },
   "file_extension": ".py",
   "mimetype": "text/x-python",
   "name": "python",
   "nbconvert_exporter": "python",
   "pygments_lexer": "ipython3",
   "version": "3.8.8"
  }
 },
 "nbformat": 4,
 "nbformat_minor": 5
}
