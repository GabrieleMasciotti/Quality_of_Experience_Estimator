{
 "cells": [
  {
   "cell_type": "code",
   "execution_count": 21,
   "id": "93a660d0",
   "metadata": {},
   "outputs": [],
   "source": [
    "import pandas as pd"
   ]
  },
  {
   "cell_type": "code",
   "execution_count": 22,
   "id": "0aeabccb",
   "metadata": {},
   "outputs": [],
   "source": [
    "Vgd = pd.read_pickle(\"Vgd\")\n",
    "F_AUc = pd.read_pickle(\"F_AUc\")\n",
    "I_AUr = pd.read_pickle(\"I_AUr\")\n",
    "QoE = pd.read_pickle(\"QoE\")"
   ]
  },
  {
   "cell_type": "code",
   "execution_count": 23,
   "id": "3cdbbb14",
   "metadata": {},
   "outputs": [],
   "source": [
    "video_da_rimuovere = [58,59,60,61,62,63,64,65,66,67,68,69,70,71,72,73,74,75,76,193,196]"
   ]
  },
  {
   "cell_type": "code",
   "execution_count": 24,
   "id": "0c191298",
   "metadata": {},
   "outputs": [],
   "source": [
    "for video in video_da_rimuovere:\n",
    "    Vgd = Vgd.drop(video)\n",
    "    I_AUr = I_AUr.drop(video)\n",
    "    QoE = QoE.drop(video)"
   ]
  },
  {
   "cell_type": "code",
   "execution_count": 25,
   "id": "b269cac0",
   "metadata": {},
   "outputs": [],
   "source": [
    "F_AUc.columns = F_AUc.columns.str.lstrip()"
   ]
  },
  {
   "cell_type": "code",
   "execution_count": 26,
   "id": "58b4ef50",
   "metadata": {},
   "outputs": [],
   "source": [
    "I_AUr.columns = I_AUr.columns.str.lstrip()"
   ]
  },
  {
   "cell_type": "code",
   "execution_count": 27,
   "id": "b1d25893",
   "metadata": {},
   "outputs": [],
   "source": [
    "training_dataset = pd.concat([Vgd,F_AUc,I_AUr,QoE],axis=1)"
   ]
  },
  {
   "cell_type": "code",
   "execution_count": 28,
   "id": "fc07128f",
   "metadata": {},
   "outputs": [],
   "source": [
    "training_dataset.to_pickle(\"training_dataset\")"
   ]
  },
  {
   "cell_type": "code",
   "execution_count": null,
   "id": "684017c6",
   "metadata": {},
   "outputs": [],
   "source": []
  }
 ],
 "metadata": {
  "kernelspec": {
   "display_name": "Python 3",
   "language": "python",
   "name": "python3"
  },
  "language_info": {
   "codemirror_mode": {
    "name": "ipython",
    "version": 3
   },
   "file_extension": ".py",
   "mimetype": "text/x-python",
   "name": "python",
   "nbconvert_exporter": "python",
   "pygments_lexer": "ipython3",
   "version": "3.8.8"
  }
 },
 "nbformat": 4,
 "nbformat_minor": 5
}
